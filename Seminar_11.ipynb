{
 "cells": [
  {
   "cell_type": "markdown",
   "id": "ff4e0a69",
   "metadata": {},
   "source": [
    "# f(x) = 5x^2 + 10x - 30\n",
    "1. Определить корни\n",
    "\n",
    "2. Найти интервалы, на которых функция возрастает\n",
    "\n",
    "3. Найти интервалы, на которых функция убывает\n",
    "\n",
    "4. Построить график\n",
    "\n",
    "5. Вычислить вершину\n",
    "\n",
    "6. Определить промежутки, на котором f > 0\n",
    "\n",
    "7. Определить промежутки, на котором f < 0"
   ]
  },
  {
   "cell_type": "code",
   "execution_count": 9,
   "id": "3b9759bf",
   "metadata": {},
   "outputs": [
    {
     "name": "stdout",
     "output_type": "stream",
     "text": [
      "700\n"
     ]
    }
   ],
   "source": [
    "a = 5\n",
    "b = 10\n",
    "c = -30\n",
    "D = (b*b) - (4*a*c)\n",
    "print(D)"
   ]
  },
  {
   "cell_type": "code",
   "execution_count": 20,
   "id": "b2b73e7b",
   "metadata": {
    "scrolled": false
   },
   "outputs": [
    {
     "name": "stdout",
     "output_type": "stream",
     "text": [
      "-1 + sqrt(7) -sqrt(7) - 1\n"
     ]
    },
    {
     "data": {
      "image/png": "[encoded data removed]",
      "text/plain": [
       "<Figure size 432x288 with 1 Axes>"
      ]
     },
     "metadata": {
      "needs_background": "light"
     },
     "output_type": "display_data"
    },
    {
     "data": {
      "text/plain": [
       "<sympy.plotting.plot.Plot at 0x242dc2cef80>"
      ]
     },
     "execution_count": 20,
     "metadata": {},
     "output_type": "execute_result"
    }
   ],
   "source": [
    "from sympy import *\n",
    "from sympy.plotting import plot\n",
    "x = Symbol('x')\n",
    "f = 5*x**2 + 10*x -30\n",
    "x1, x2 = solve(f, x) #промежутки где функция положительна или отрицательна\n",
    "print(x1, x2)\n",
    "plot(f)"
   ]
  },
  {
   "cell_type": "code",
   "execution_count": 14,
   "id": "33ed9ad7",
   "metadata": {
    "scrolled": false
   },
   "outputs": [
    {
     "name": "stdout",
     "output_type": "stream",
     "text": [
      "Функция возрастает от -1.0 до +∞\n",
      "Функция убывает от -∞ до -1.0\n"
     ]
    }
   ],
   "source": [
    "xmin = (-b) / (2*a)\n",
    "print(f'Функция возрастает от {xmin} до +∞')\n",
    "print(f'Функция убывает от -∞ до {xmin}')"
   ]
  },
  {
   "cell_type": "code",
   "execution_count": 16,
   "id": "418bfcc5",
   "metadata": {
    "scrolled": true
   },
   "outputs": [
    {
     "name": "stdout",
     "output_type": "stream",
     "text": [
      "Вершина функции: [-1.0, -35.0]\n"
     ]
    }
   ],
   "source": [
    "y = 5*(xmin**2) + (10 * xmin) -30\n",
    "print(f'Вершина функции: [{xmin}, {y}]')"
   ]
  },
  {
   "cell_type": "code",
   "execution_count": 23,
   "id": "58213932",
   "metadata": {},
   "outputs": [
    {
     "name": "stdout",
     "output_type": "stream",
     "text": [
      "Функция положительна на промежутке от -∞ до -1 + sqrt(7) и от -sqrt(7) - 1 до +∞.\n",
      "Функция отрицательна на промежутке от 1.6457513110645905 до -3.6457513110645907.\n"
     ]
    }
   ],
   "source": [
    "print(f'Функция положительна на промежутке от -∞ до {(x1)} и от {(x2)} до +∞.')\n",
    "print(f'Функция отрицательна на промежутке от {float(x1)} до {float(x2)}.')\n"
   ]
  }
 ],
 "metadata": {
  "kernelspec": {
   "display_name": "Python 3 (ipykernel)",
   "language": "python",
   "name": "python3"
  },
  "language_info": {
   "codemirror_mode": {
    "name": "ipython",
    "version": 3
   },
   "file_extension": ".py",
   "mimetype": "text/x-python",
   "name": "python",
   "nbconvert_exporter": "python",
   "pygments_lexer": "ipython3",
   "version": "3.10.1"
  }
 },
 "nbformat": 4,
 "nbformat_minor": 5
}
