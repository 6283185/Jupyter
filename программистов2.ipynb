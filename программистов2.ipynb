{
 "cells": [
  {
   "cell_type": "code",
   "execution_count": 1,
   "id": "60311c98",
   "metadata": {},
   "outputs": [
    {
     "name": "stdout",
     "output_type": "stream",
     "text": [
      "752\n",
      "752 программиста\n"
     ]
    }
   ],
   "source": [
    "n = int(input())\n",
    "coder = str()\n",
    "a, b, c = 'программист', 'программистов', 'программиста'\n",
    "if 0 <= n <= 1000:\n",
    "    if n == 1 or (n % 10 == 1 and n != 11 and n % 100 != 11):\n",
    "        coder = a\n",
    "    elif (1 < n % 10 <5) and not 11 < n % 100 < 15 :\n",
    "        coder = c\n",
    "    else:\n",
    "        coder = b\n",
    "print(n, coder)\n",
    "    \n",
    "\n",
    "    "
   ]
  }
 ],
 "metadata": {
  "kernelspec": {
   "display_name": "Python 3 (ipykernel)",
   "language": "python",
   "name": "python3"
  },
  "language_info": {
   "codemirror_mode": {
    "name": "ipython",
    "version": 3
   },
   "file_extension": ".py",
   "mimetype": "text/x-python",
   "name": "python",
   "nbconvert_exporter": "python",
   "pygments_lexer": "ipython3",
   "version": "3.10.1"
  }
 },
 "nbformat": 4,
 "nbformat_minor": 5
}
