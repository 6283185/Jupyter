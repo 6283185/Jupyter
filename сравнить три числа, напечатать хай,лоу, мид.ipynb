{
 "cells": [
  {
   "cell_type": "code",
   "execution_count": 7,
   "id": "d33a6f61",
   "metadata": {},
   "outputs": [
    {
     "name": "stdout",
     "output_type": "stream",
     "text": [
      "23\n",
      "23\n",
      "21\n",
      "23\n",
      "21\n",
      "23\n"
     ]
    }
   ],
   "source": [
    "a = int(input())\n",
    "b = int(input())\n",
    "c = int(input())\n",
    "if a >= b >= c:\n",
    "    hi_num = a\n",
    "    low_num = c\n",
    "    other_num = b\n",
    "elif b >= a >= c:\n",
    "    hi_num = b\n",
    "    low_num = c\n",
    "    other_num = b   \n",
    "elif c >= a >= b:\n",
    "    hi_num = c\n",
    "    low_num = b\n",
    "    other_num = a\n",
    "print(hi_num)    \n",
    "print(low_num)  \n",
    "print(other_num)  \n"
   ]
  },
  {
   "cell_type": "code",
   "execution_count": 9,
   "id": "f1b6d8a4",
   "metadata": {},
   "outputs": [
    {
     "name": "stdout",
     "output_type": "stream",
     "text": [
      "23\n",
      "23\n",
      "21\n",
      "23\n",
      "21\n",
      "23\n"
     ]
    }
   ],
   "source": [
    "a = int(input())\n",
    "b = int(input())\n",
    "c = int(input())\n",
    "if b <= a <= c or c <= a <= b:\n",
    "    mid = a\n",
    "elif a <= b <= c or c <= b <= a:\n",
    "    mid = b\n",
    "else:\n",
    "    mid = c\n",
    "if b >= a <= c:\n",
    "    low = a\n",
    "elif a >= b <= c:\n",
    "    low = b\n",
    "else:\n",
    "    low = c\n",
    "if b <= a >= c:\n",
    "    hi = a\n",
    "elif a <= b >= c:\n",
    "    hi = b\n",
    "else:\n",
    "    hi = c\n",
    "print(hi)    \n",
    "print(low)\n",
    "print(mid)\n",
    "    "
   ]
  }
 ],
 "metadata": {
  "kernelspec": {
   "display_name": "Python 3 (ipykernel)",
   "language": "python",
   "name": "python3"
  },
  "language_info": {
   "codemirror_mode": {
    "name": "ipython",
    "version": 3
   },
   "file_extension": ".py",
   "mimetype": "text/x-python",
   "name": "python",
   "nbconvert_exporter": "python",
   "pygments_lexer": "ipython3",
   "version": "3.10.1"
  }
 },
 "nbformat": 4,
 "nbformat_minor": 5
}
