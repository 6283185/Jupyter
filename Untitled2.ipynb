{
 "cells": [
  {
   "cell_type": "code",
   "execution_count": null,
   "id": "3bff19e5",
   "metadata": {},
   "outputs": [],
   "source": [
    "pi = 3.14\n",
    "form = input()\n",
    "if form == 'треугольник':\n",
    "    a = int(input())\n",
    "    b = int(input())\n",
    "    c = int(input())\n",
    "    p = (a + b + c) / 2\n",
    "    S = (p * (p - a) * (p - b) * (p - c)) ** 0.5\n",
    "elif form == 'прямоугольник':\n",
    "    a = int(input())\n",
    "    b = int(input())\n",
    "    S = a * b\n",
    "elif form == 'круг':    \n",
    "    r = int(input())\n",
    "    S = pi * r ** 2\n",
    "print(S)    "
   ]
  }
 ],
 "metadata": {
  "kernelspec": {
   "display_name": "Python 3 (ipykernel)",
   "language": "python",
   "name": "python3"
  },
  "language_info": {
   "codemirror_mode": {
    "name": "ipython",
    "version": 3
   },
   "file_extension": ".py",
   "mimetype": "text/x-python",
   "name": "python",
   "nbconvert_exporter": "python",
   "pygments_lexer": "ipython3",
   "version": "3.10.1"
  }
 },
 "nbformat": 4,
 "nbformat_minor": 5
}
