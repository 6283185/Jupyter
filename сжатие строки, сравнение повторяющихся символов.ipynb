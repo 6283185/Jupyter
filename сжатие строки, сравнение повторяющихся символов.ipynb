{
 "cells": [
  {
   "cell_type": "code",
   "execution_count": 26,
   "id": "077e89c6",
   "metadata": {},
   "outputs": [
    {
     "name": "stdout",
     "output_type": "stream",
     "text": [
      "abc\n",
      "a1b1c1\n"
     ]
    }
   ],
   "source": [
    "string = input()\n",
    "new_string = ''\n",
    "count = 1\n",
    "for i in range(1, len(string)):\n",
    "    if string[i - 1] == string[i]:\n",
    "        count += 1\n",
    "    else:\n",
    "        new_string += string[i - 1] + str(count)\n",
    "        count = 1\n",
    "new_string += string[len(string) - 1] + str(count)\n",
    "print(new_string)"
   ]
  },
  {
   "cell_type": "code",
   "execution_count": 38,
   "id": "2033dba2",
   "metadata": {},
   "outputs": [
    {
     "name": "stdout",
     "output_type": "stream",
     "text": [
      "aaaabbcaa\n",
      "a4b2b1a2\n"
     ]
    }
   ],
   "source": [
    "string = input() + ' '\n",
    "new_string = ''\n",
    "count = 1\n",
    "for i in range (0, len(string) - 1):\n",
    "    if string[i] == string[i + 1]:\n",
    "        count += 1\n",
    "    else:\n",
    "        new_string += string[i - 1] + str(count)\n",
    "        count = 1\n",
    "print(new_string)    \n",
    "    "
   ]
  },
  {
   "cell_type": "code",
   "execution_count": 40,
   "id": "f062e43b",
   "metadata": {},
   "outputs": [
    {
     "name": "stdout",
     "output_type": "stream",
     "text": [
      "aaaabbcaa\n",
      "a4b2c1a2\n"
     ]
    }
   ],
   "source": [
    "string = input()\n",
    "count = 0\n",
    "new_string = string[0]\n",
    "for i in string:\n",
    "    if new_string == i:\n",
    "        count += 1\n",
    "    else:\n",
    "        print(new_string + str(count), end=\"\")\n",
    "        new_string = i\n",
    "        count = 1\n",
    "print(new_string + str(count))"
   ]
  }
 ],
 "metadata": {
  "kernelspec": {
   "display_name": "Python 3 (ipykernel)",
   "language": "python",
   "name": "python3"
  },
  "language_info": {
   "codemirror_mode": {
    "name": "ipython",
    "version": 3
   },
   "file_extension": ".py",
   "mimetype": "text/x-python",
   "name": "python",
   "nbconvert_exporter": "python",
   "pygments_lexer": "ipython3",
   "version": "3.10.1"
  }
 },
 "nbformat": 4,
 "nbformat_minor": 5
}
