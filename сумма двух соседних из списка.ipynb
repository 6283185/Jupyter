{
 "cells": [
  {
   "cell_type": "code",
   "execution_count": 29,
   "id": "dccfb2eb",
   "metadata": {},
   "outputs": [
    {
     "name": "stdout",
     "output_type": "stream",
     "text": [
      "1 1 1 5 5 6 10 10\n",
      "11 2 6 6 11 15 16 11\n"
     ]
    }
   ],
   "source": [
    "a = [int(i) for i in input().split()]\n",
    "count = 0 # счетчик итераций\n",
    "for i in a:\n",
    "    if len(a) == 1: # если один символ\n",
    "        print(i)\n",
    "    elif i == a[0] and len(a) == 2: # если два числа и первое с индексом 0\n",
    "        print(a[1] + a[1], end = ' ')\n",
    "    elif i == a[1] and len(a) == 2: # если два числа и первое с индексом 1\n",
    "        print(a[0] + a[0])\n",
    "    elif len(a) > 2 and count == 0: # если больше двух чисел и индекс 0\n",
    "        print(a[1] + a[-1], end =' ')\n",
    "        count += 1\n",
    "    elif len(a) > 2 and count == len(a) - 1: # если больше двух чисел и счетчик == длинне списка \n",
    "        print(a[0] + a[-2])\n",
    "    else:\n",
    "        print(a[count - 1] + a[count + 1], end = ' ')\n",
    "        count += 1\n",
    "        \n",
    "        "
   ]
  },
  {
   "cell_type": "code",
   "execution_count": 26,
   "id": "3380a5f4",
   "metadata": {},
   "outputs": [
    {
     "name": "stdout",
     "output_type": "stream",
     "text": [
      "1 2 3\n",
      "5 4 3 "
     ]
    }
   ],
   "source": [
    "a = [int(i) for i in input().split()]\n",
    "b = 0\n",
    "c = 0\n",
    "for i in a:\n",
    "    if i == a[0] and len(a) > 2:\n",
    "        b = a[1] + a[-1]\n",
    "        print(b, end = ' ')\n",
    "        c += 1\n",
    "        b = 0\n",
    "    elif i == a[-1] and len(a) > 2:\n",
    "        b = a[-2] + a[0]\n",
    "        print(b, end = ' ')\n",
    "        c += 1\n",
    "        b = 0\n",
    "    elif len(a) == 1:\n",
    "        print(i, end = ' ')\n",
    "    elif i == a[0] and len(a) == 2:\n",
    "        b = a[1] + a[1]\n",
    "        print(b, end = ' ')\n",
    "        b = 0\n",
    "    elif i == a[1] and len(a) == 2:\n",
    "        b = a[0] + a[0]\n",
    "        print(b, end = ' ')\n",
    "        b = 0\n",
    "    else:\n",
    "        b = a[c - 1] + a[c + 1]\n",
    "        print(b, end = ' ')\n",
    "        c += 1\n",
    "        b = 0\n",
    "\n",
    "        "
   ]
  }
 ],
 "metadata": {
  "kernelspec": {
   "display_name": "Python 3 (ipykernel)",
   "language": "python",
   "name": "python3"
  },
  "language_info": {
   "codemirror_mode": {
    "name": "ipython",
    "version": 3
   },
   "file_extension": ".py",
   "mimetype": "text/x-python",
   "name": "python",
   "nbconvert_exporter": "python",
   "pygments_lexer": "ipython3",
   "version": "3.10.1"
  }
 },
 "nbformat": 4,
 "nbformat_minor": 5
}
