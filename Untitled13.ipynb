{
 "cells": [
  {
   "cell_type": "code",
   "execution_count": 2,
   "id": "c70bcd0d",
   "metadata": {},
   "outputs": [
    {
     "name": "stdout",
     "output_type": "stream",
     "text": [
      "acggtgttat\n",
      "40.0\n"
     ]
    }
   ],
   "source": [
    "gc = input()\n",
    "count = 0\n",
    "s = gc.upper()\n",
    "for i in s:\n",
    "    if i == 'G' or i == 'C':\n",
    "        count += 1\n",
    "print(count / len(gc) * 100)"
   ]
  },
  {
   "cell_type": "code",
   "execution_count": 3,
   "id": "01dcacab",
   "metadata": {},
   "outputs": [
    {
     "name": "stdout",
     "output_type": "stream",
     "text": [
      "kigec\n"
     ]
    }
   ],
   "source": [
    "s = 'abcdefghijk'\n",
    "print(s[-1:-10:-2])"
   ]
  }
 ],
 "metadata": {
  "kernelspec": {
   "display_name": "Python 3 (ipykernel)",
   "language": "python",
   "name": "python3"
  },
  "language_info": {
   "codemirror_mode": {
    "name": "ipython",
    "version": 3
   },
   "file_extension": ".py",
   "mimetype": "text/x-python",
   "name": "python",
   "nbconvert_exporter": "python",
   "pygments_lexer": "ipython3",
   "version": "3.10.1"
  }
 },
 "nbformat": 4,
 "nbformat_minor": 5
}
