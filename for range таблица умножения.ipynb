{
 "cells": [
  {
   "cell_type": "code",
   "execution_count": 133,
   "id": "ad551f4b",
   "metadata": {},
   "outputs": [
    {
     "name": "stdout",
     "output_type": "stream",
     "text": [
      "1\n",
      "9\n",
      "1\n",
      "9\n",
      "\t1\t2\t3\t4\t5\t6\t7\t8\t9\n",
      "1\t1\t2\t3\t4\t5\t6\t7\t8\t9\n",
      "2\t2\t4\t6\t8\t10\t12\t14\t16\t18\n",
      "3\t3\t6\t9\t12\t15\t18\t21\t24\t27\n",
      "4\t4\t8\t12\t16\t20\t24\t28\t32\t36\n",
      "5\t5\t10\t15\t20\t25\t30\t35\t40\t45\n",
      "6\t6\t12\t18\t24\t30\t36\t42\t48\t54\n",
      "7\t7\t14\t21\t28\t35\t42\t49\t56\t63\n",
      "8\t8\t16\t24\t32\t40\t48\t56\t64\t72\n",
      "9\t9\t18\t27\t36\t45\t54\t63\t72\t81\n"
     ]
    }
   ],
   "source": [
    "a = int(input())\n",
    "b = int(input())\n",
    "c = int(input())\n",
    "d = int(input())\n",
    "s = ''\n",
    "# формируем шапку таблицы\n",
    "for i in range (c, d + 1):\n",
    "    s += '\\t%s' % i\n",
    "# заполняем строки таблицы\n",
    "for i in range(a, b + 1):\n",
    "    s += '\\n%s' % i # выводим текущее число из умножаемого столбеца\n",
    "    for j in range (c, d + 1):\n",
    "        s += '\\t%s' % (i * j) # выводим результат умножения соответствующих чисел\n",
    "print(s)\n",
    "\n",
    "    "
   ]
  },
  {
   "cell_type": "code",
   "execution_count": 135,
   "id": "fdbd98fe",
   "metadata": {},
   "outputs": [
    {
     "name": "stdout",
     "output_type": "stream",
     "text": [
      "1\n",
      "9\n",
      "1\n",
      "9\n",
      "\t 1\t 2\t 3\t 4\t 5\t 6\t 7\t 8\t 9\n",
      "1\t1\t2\t3\t4\t5\t6\t7\t8\t9\t\n",
      "2\t2\t4\t6\t8\t10\t12\t14\t16\t18\t\n",
      "3\t3\t6\t9\t12\t15\t18\t21\t24\t27\t\n",
      "4\t4\t8\t12\t16\t20\t24\t28\t32\t36\t\n",
      "5\t5\t10\t15\t20\t25\t30\t35\t40\t45\t\n",
      "6\t6\t12\t18\t24\t30\t36\t42\t48\t54\t\n",
      "7\t7\t14\t21\t28\t35\t42\t49\t56\t63\t\n",
      "8\t8\t16\t24\t32\t40\t48\t56\t64\t72\t\n",
      "9\t9\t18\t27\t36\t45\t54\t63\t72\t81\t\n"
     ]
    }
   ],
   "source": [
    "a, b, c, d = int(input()), int(input()), int(input()), int(input())\n",
    "for i in range(c, d + 1):\n",
    "    print('\\t', i, end='')\n",
    "print()\n",
    "for j in range(a, b + 1):\n",
    "    print(j, end='\\t')\n",
    "    for k in range(c, d + 1):\n",
    "        print(j * k, end='\\t')\n",
    "    print()"
   ]
  },
  {
   "cell_type": "code",
   "execution_count": 6,
   "id": "fb76217b",
   "metadata": {},
   "outputs": [
    {
     "name": "stdout",
     "output_type": "stream",
     "text": [
      "1\n",
      "5\n",
      "6\n",
      "10\n",
      "\t 6\t 7\t 8\t 9\t 10\n",
      " 1\t 6\t 7\t 8\t 9\t 10\n",
      " 2\t 12\t 14\t 16\t 18\t 20\n",
      " 3\t 18\t 21\t 24\t 27\t 30\n",
      " 4\t 24\t 28\t 32\t 36\t 40\n",
      " 5\t 30\t 35\t 40\t 45\t 50"
     ]
    }
   ],
   "source": [
    "a = int(input())\n",
    "b = int(input())\n",
    "c = int(input())\n",
    "d = int(input())\n",
    "for i in range(c ,d + 1):\n",
    "    print('\\t' ,i , end = '')\n",
    "for j in range(a ,b + 1):\n",
    "    print('\\n' ,j , end = '')\n",
    "    for k in range(c ,d + 1):\n",
    "        print('\\t' ,j * k , end = '')\n"
   ]
  },
  {
   "cell_type": "code",
   "execution_count": 9,
   "id": "9da855cf",
   "metadata": {},
   "outputs": [
    {
     "name": "stdout",
     "output_type": "stream",
     "text": [
      "1\n",
      "5\n",
      "6\n",
      "9\n",
      "\t 6\t 7\t 8\t 9\n",
      "1\t6\t7\t8\t9\t\n",
      "2\t12\t14\t16\t18\t\n",
      "3\t18\t21\t24\t27\t\n",
      "4\t24\t28\t32\t36\t\n",
      "5\t30\t35\t40\t45\t"
     ]
    }
   ],
   "source": [
    "a=int(input())\n",
    "b=int(input())\n",
    "c=int(input())      \n",
    "d=int(input())\n",
    "\n",
    "\n",
    "for j in range(c, d+1):\n",
    "    print(\"\\t\", j, end=\"\",)\n",
    "for i in range(a, b+1):\n",
    "    print()\n",
    "    print(i, end=\"\\t\")\n",
    "    for j in range(c, d+1):\n",
    "        print(i*j, end=\"\\t\")"
   ]
  }
 ],
 "metadata": {
  "kernelspec": {
   "display_name": "Python 3 (ipykernel)",
   "language": "python",
   "name": "python3"
  },
  "language_info": {
   "codemirror_mode": {
    "name": "ipython",
    "version": 3
   },
   "file_extension": ".py",
   "mimetype": "text/x-python",
   "name": "python",
   "nbconvert_exporter": "python",
   "pygments_lexer": "ipython3",
   "version": "3.10.1"
  }
 },
 "nbformat": 4,
 "nbformat_minor": 5
}
