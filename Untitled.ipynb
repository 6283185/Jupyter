{
 "cells": [
  {
   "cell_type": "code",
   "execution_count": 2,
   "id": "96591569",
   "metadata": {},
   "outputs": [
    {
     "name": "stdout",
     "output_type": "stream",
     "text": [
      "Введите число45\n",
      "Число вне заданного диапазона\n",
      "Введите число5\n",
      "25\n"
     ]
    }
   ],
   "source": [
    "while True:\n",
    "    number = int(input('Введите число'))\n",
    "    if number > 0 and number < 10:\n",
    "        print(number ** 2)\n",
    "        break\n",
    "    else:\n",
    "        print('Число вне заданного диапазона')"
   ]
  },
  {
   "cell_type": "code",
   "execution_count": 6,
   "id": "5900a9a5",
   "metadata": {},
   "outputs": [
    {
     "name": "stdout",
     "output_type": "stream",
     "text": [
      "Введите Ваше имяДмитрий\n",
      "Введите Вашу фамилиюЧернышов\n",
      "Введите Ваш возраст37\n",
      "Введите Ваш вес67\n",
      "Всё в порядке!\n"
     ]
    }
   ],
   "source": [
    "first_name = input('Введите Ваше имя')\n",
    "second_name = input('Введите Вашу фамилию')\n",
    "age = int(input('Введите Ваш возраст'))\n",
    "weight = int(input('Введите Ваш вес'))\n",
    "if age < 30 and weight > 50 and weight < 120:\n",
    "    print(first_name, second_name, 'Вы здоровы!')\n",
    "elif age >= 30 and age < 40 and weight < 50 or weight > 120:\n",
    "    print(first_name, second_name, 'Вам пора начинать здоровый образ жизни!')\n",
    "elif age >= 40 and weight < 50 or weight > 120:\n",
    "    print(first_name, second_name, 'Вам пора обратиться к врачу!')\n",
    "else:\n",
    "    print('Всё в порядке!')\n",
    "\n"
   ]
  }
 ],
 "metadata": {
  "kernelspec": {
   "display_name": "Python 3 (ipykernel)",
   "language": "python",
   "name": "python3"
  },
  "language_info": {
   "codemirror_mode": {
    "name": "ipython",
    "version": 3
   },
   "file_extension": ".py",
   "mimetype": "text/x-python",
   "name": "python",
   "nbconvert_exporter": "python",
   "pygments_lexer": "ipython3",
   "version": "3.10.1"
  }
 },
 "nbformat": 4,
 "nbformat_minor": 5
}
