{
 "cells": [
  {
   "cell_type": "code",
   "execution_count": 4,
   "id": "18cd25ad",
   "metadata": {},
   "outputs": [
    {
     "name": "stdout",
     "output_type": "stream",
     "text": [
      "-0.5\n"
     ]
    }
   ],
   "source": [
    "def f(x):\n",
    "    if x <= -2:\n",
    "        return 1-(x + 2)**2\n",
    "    elif -2 < x <= 2:\n",
    "        return -x/2\n",
    "    elif x > 2:\n",
    "        return (x - 2)**2 + 1\n",
    "print(f(1))"
   ]
  },
  {
   "cell_type": "code",
   "execution_count": 19,
   "id": "bae40b24",
   "metadata": {
    "scrolled": true
   },
   "outputs": [
    {
     "name": "stdout",
     "output_type": "stream",
     "text": [
      "5\n",
      "0b111\n",
      "3\n"
     ]
    }
   ],
   "source": [
    "def count_bits(n):\n",
    "    a = str(bin(n))\n",
    "    b = 0\n",
    "    for i in range(len(a)):\n",
    "        if a[i] == '1':\n",
    "            b += 1\n",
    "    return b\n",
    "    \n",
    "print(count_bits(7))"
   ]
  },
  {
   "cell_type": "code",
   "execution_count": 38,
   "id": "77cc80b9",
   "metadata": {},
   "outputs": [
    {
     "name": "stdout",
     "output_type": "stream",
     "text": [
      "97\n",
      "122\n"
     ]
    }
   ],
   "source": [
    "print(ord('a'))\n",
    "print(ord('z'))"
   ]
  },
  {
   "cell_type": "code",
   "execution_count": 65,
   "id": "7aa79ee4",
   "metadata": {},
   "outputs": [
    {
     "name": "stdout",
     "output_type": "stream",
     "text": [
      "1\n"
     ]
    }
   ],
   "source": [
    "def alphabet_position(text):\n",
    "    a =[]\n",
    "    for i in range(len(text)):\n",
    "        if 96 < ord(text.lower()[i]) < 123:\n",
    "            a.append(str(ord(text.lower()[i])-96))\n",
    "    return ' '.join(a)\n",
    "    \n",
    "print(alphabet_position(\"a\"))\n"
   ]
  }
 ],
 "metadata": {
  "kernelspec": {
   "display_name": "Python 3 (ipykernel)",
   "language": "python",
   "name": "python3"
  },
  "language_info": {
   "codemirror_mode": {
    "name": "ipython",
    "version": 3
   },
   "file_extension": ".py",
   "mimetype": "text/x-python",
   "name": "python",
   "nbconvert_exporter": "python",
   "pygments_lexer": "ipython3",
   "version": "3.10.1"
  }
 },
 "nbformat": 4,
 "nbformat_minor": 5
}
