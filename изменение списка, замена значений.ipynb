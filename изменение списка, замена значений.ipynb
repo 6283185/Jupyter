{
 "cells": [
  {
   "cell_type": "code",
   "execution_count": 14,
   "id": "b4f6056a",
   "metadata": {},
   "outputs": [
    {
     "name": "stdout",
     "output_type": "stream",
     "text": [
      "[5, 4]\n"
     ]
    }
   ],
   "source": [
    "def modify_list(l):\n",
    "    for i in reversed(range(len(l))):\n",
    "        if l[i] % 2 == 0:\n",
    "            l[i] //= 2\n",
    "        else:\n",
    "            del l[i]\n",
    "\n",
    "\n",
    "l = [10, 5, 8, 3]\n",
    "modify_list(l)\n",
    "print(l)"
   ]
  },
  {
   "cell_type": "code",
   "execution_count": null,
   "id": "cc5a1dd5",
   "metadata": {},
   "outputs": [],
   "source": [
    "def modify_list(l):\n",
    "    i=0\n",
    "    while i<len(l):\n",
    "        if l[i]%2 !=0:\n",
    "            del (l[i])\n",
    "        else:\n",
    "            l[i]=l[i]//2 \n",
    "            i+=1  "
   ]
  },
  {
   "cell_type": "code",
   "execution_count": null,
   "id": "83a23bcb",
   "metadata": {},
   "outputs": [],
   "source": [
    "def modify_list(l):\n",
    "    l[:] = [i//2 for i in l if i % 2 == 0]"
   ]
  },
  {
   "cell_type": "code",
   "execution_count": null,
   "id": "d9687202",
   "metadata": {},
   "outputs": [],
   "source": [
    "def modify_list(l):\n",
    "    b = []\n",
    "    for x in l:\n",
    "        if x % 2 == 0:\n",
    "            b.append(x // 2)\n",
    "    l[:] = b"
   ]
  }
 ],
 "metadata": {
  "kernelspec": {
   "display_name": "Python 3 (ipykernel)",
   "language": "python",
   "name": "python3"
  },
  "language_info": {
   "codemirror_mode": {
    "name": "ipython",
    "version": 3
   },
   "file_extension": ".py",
   "mimetype": "text/x-python",
   "name": "python",
   "nbconvert_exporter": "python",
   "pygments_lexer": "ipython3",
   "version": "3.10.1"
  }
 },
 "nbformat": 4,
 "nbformat_minor": 5
}
