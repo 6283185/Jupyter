{
 "cells": [
  {
   "cell_type": "code",
   "execution_count": 93,
   "id": "9ac85ae4",
   "metadata": {},
   "outputs": [
    {
     "name": "stdout",
     "output_type": "stream",
     "text": [
      "3\n",
      "1 2 2\n"
     ]
    }
   ],
   "source": [
    "n = int(input())\n",
    "s = []\n",
    "count = 0\n",
    "for i in range(n):\n",
    "    for j in range(i):\n",
    "        s.append(i)\n",
    "if n == 1:\n",
    "    s.append(n)\n",
    "elif n == 2:\n",
    "    s.append(n)\n",
    "print(*s[:n])"
   ]
  },
  {
   "cell_type": "code",
   "execution_count": 99,
   "id": "6ea26a89",
   "metadata": {},
   "outputs": [
    {
     "name": "stdout",
     "output_type": "stream",
     "text": [
      "4\n",
      "1 2 2 3\n"
     ]
    }
   ],
   "source": [
    "n = int(input())\n",
    "s = []\n",
    "count = 0\n",
    "for i in range(n):\n",
    "    for j in range(i):\n",
    "        s.append(i)\n",
    "if n < 3:\n",
    "    s.append(n)\n",
    "print(*s[:n])"
   ]
  },
  {
   "cell_type": "code",
   "execution_count": 80,
   "id": "52b64640",
   "metadata": {},
   "outputs": [
    {
     "name": "stdout",
     "output_type": "stream",
     "text": [
      "5\n",
      "[1, 2, 2, 3, 3, 3]\n"
     ]
    }
   ],
   "source": [
    "n = int(input())\n",
    "a = []\n",
    "i = 0\n",
    "while len(a) < n:\n",
    "    a += [i] * i\n",
    "    i += 1\n",
    "print(*a[:n])\n"
   ]
  },
  {
   "cell_type": "code",
   "execution_count": 84,
   "id": "987bd6b2",
   "metadata": {},
   "outputs": [
    {
     "name": "stdout",
     "output_type": "stream",
     "text": [
      "7\n",
      "1 2 2 3 3 3 4\n"
     ]
    }
   ],
   "source": [
    "n=int(input())\n",
    "print(*[i for i in range(1,n+1) for j in range(i)][:n])"
   ]
  }
 ],
 "metadata": {
  "kernelspec": {
   "display_name": "Python 3 (ipykernel)",
   "language": "python",
   "name": "python3"
  },
  "language_info": {
   "codemirror_mode": {
    "name": "ipython",
    "version": 3
   },
   "file_extension": ".py",
   "mimetype": "text/x-python",
   "name": "python",
   "nbconvert_exporter": "python",
   "pygments_lexer": "ipython3",
   "version": "3.10.1"
  }
 },
 "nbformat": 4,
 "nbformat_minor": 5
}
