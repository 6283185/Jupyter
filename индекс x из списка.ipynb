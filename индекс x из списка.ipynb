{
 "cells": [
  {
   "cell_type": "code",
   "execution_count": 16,
   "id": "9a4754c7",
   "metadata": {},
   "outputs": [
    {
     "name": "stdout",
     "output_type": "stream",
     "text": [
      "5 8 2 7 8 8 2 4\n",
      "2\n",
      "2 6 "
     ]
    }
   ],
   "source": [
    "a = [int(i) for i in input().split()]\n",
    "x = int(input())\n",
    "count = 0\n",
    "for j in a:\n",
    "    count += 1\n",
    "    if j == x:\n",
    "        print(count - 1, end =' ')\n",
    "if x not in a:\n",
    "    print('Отсутствует')"
   ]
  },
  {
   "cell_type": "code",
   "execution_count": 25,
   "id": "86eebd2e",
   "metadata": {},
   "outputs": [
    {
     "name": "stdout",
     "output_type": "stream",
     "text": [
      "5 8 2 7 8 8 2 4\n",
      "8\n",
      "1 4 5 "
     ]
    }
   ],
   "source": [
    "a = [int(i) for i in input().split()]\n",
    "x = int(input())\n",
    "for j in range(len(a)):\n",
    "    if a[j] == x:\n",
    "        print(j, end =' ')\n",
    "if x not in a:\n",
    "    print('Отсутствует')"
   ]
  },
  {
   "cell_type": "code",
   "execution_count": null,
   "id": "09ad9f16",
   "metadata": {},
   "outputs": [],
   "source": [
    "numbers = [int(i) for i in input().split()]\n",
    "needed = int(input())\n",
    "if needed not in numbers:\n",
    "    print(\"Отсутствует\")\n",
    "else:\n",
    "    [print(i, end=\" \") for i, x in enumerate(numbers) if x == needed]"
   ]
  }
 ],
 "metadata": {
  "kernelspec": {
   "display_name": "Python 3 (ipykernel)",
   "language": "python",
   "name": "python3"
  },
  "language_info": {
   "codemirror_mode": {
    "name": "ipython",
    "version": 3
   },
   "file_extension": ".py",
   "mimetype": "text/x-python",
   "name": "python",
   "nbconvert_exporter": "python",
   "pygments_lexer": "ipython3",
   "version": "3.10.1"
  }
 },
 "nbformat": 4,
 "nbformat_minor": 5
}
