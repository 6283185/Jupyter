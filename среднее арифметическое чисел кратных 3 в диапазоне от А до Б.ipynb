{
 "cells": [
  {
   "cell_type": "code",
   "execution_count": null,
   "id": "a7e5f1e7",
   "metadata": {},
   "outputs": [],
   "source": [
    "a, b = (int(i) for i in input().split())"
   ]
  },
  {
   "cell_type": "code",
   "execution_count": 20,
   "id": "6cf905e8",
   "metadata": {},
   "outputs": [
    {
     "name": "stdout",
     "output_type": "stream",
     "text": [
      "-5\n",
      "12\n",
      "4.5\n"
     ]
    }
   ],
   "source": [
    "a = int(input())\n",
    "b = int(input())\n",
    "count = 0\n",
    "s = 0\n",
    "while a % 3 != 0:\n",
    "    a += 1\n",
    "if a % 3 == 0:\n",
    "    for i in range(a, b + 1, 3):\n",
    "        s += i\n",
    "        count += 1\n",
    "print(s / count)"
   ]
  },
  {
   "cell_type": "code",
   "execution_count": 21,
   "id": "668c8ed1",
   "metadata": {},
   "outputs": [
    {
     "name": "stdout",
     "output_type": "stream",
     "text": [
      "-25\n",
      "47\n",
      "10.5\n"
     ]
    }
   ],
   "source": [
    "a,b = int(input()), int(input())\n",
    "a += -a%3 # а не равно больше -5, а становиться: -5 - (-5%3)= -5+2=-3\n",
    "b -= b%3 # b не равно больше 12, а становиться: 12 - (-12%3) = 12+0=12\n",
    "print((a+b)/2)"
   ]
  },
  {
   "cell_type": "code",
   "execution_count": null,
   "id": "619035a5",
   "metadata": {},
   "outputs": [],
   "source": [
    "a, b = int(input()), int(input())\n",
    "\n",
    "sm = 0;\n",
    "n = 0;\n",
    "\n",
    "for i in range(a, b + 1):\n",
    "    if i % 3 == 0:\n",
    "        sm += i\n",
    "        n += 1\n",
    "\n",
    "print(sm / n)"
   ]
  }
 ],
 "metadata": {
  "kernelspec": {
   "display_name": "Python 3 (ipykernel)",
   "language": "python",
   "name": "python3"
  },
  "language_info": {
   "codemirror_mode": {
    "name": "ipython",
    "version": 3
   },
   "file_extension": ".py",
   "mimetype": "text/x-python",
   "name": "python",
   "nbconvert_exporter": "python",
   "pygments_lexer": "ipython3",
   "version": "3.10.1"
  }
 },
 "nbformat": 4,
 "nbformat_minor": 5
}
