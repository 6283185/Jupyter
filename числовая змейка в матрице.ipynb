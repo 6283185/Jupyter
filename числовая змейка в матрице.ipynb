{
 "cells": [
  {
   "cell_type": "code",
   "execution_count": null,
   "id": "44fe52ed",
   "metadata": {},
   "outputs": [],
   "source": [
    "n = int(input())\n",
    " \n",
    "# Создаем нулевую квадратную матрицу заданной размерности\n",
    "a = [[0 for i in range(n)] for j in range(n)]\n",
    " \n",
    "# Определяем внутренние счетчики для цикла\n",
    "i = 0 # строки\n",
    "j = 0 # столбцы\n",
    "x = 1 # текущее значение для заполнения ячейки\n",
    "k = 0 # порядковый номер контура\n",
    " \n",
    "while x <= n*n:\n",
    "    a[i][j] = x # заполняем ячейку текущим значением\n",
    " \n",
    "    if i != j: # Только если мы сейчас не на диагонали!\n",
    "        # Сумма зеркально расположенных элементов одинакова для текущего контура.\n",
    "        # Она равна нижнему правому значению в контуре, умноженному на 2.\n",
    "        # Так что на каждом шаге цикла мы заполняем зеркальный элемент матрицы,\n",
    "        # просто вычитая текущее x из этой суммы ;)\n",
    "        a[j][i] = (a[k][k] + (n-k*2)*2) * 2 - 4 - x\n",
    "    \n",
    "    if j != n-k-1: \n",
    "        # если еще не уперлись в правую границу контура, двигаемся вправо\n",
    "        j += 1 \n",
    "        \n",
    "    elif i != n-k-1: \n",
    "        # если еще не уперлись в нижнюю границу контура, двигаемся вниз\n",
    "        i += 1\n",
    "        \n",
    "    elif x != n*n: \n",
    "        # Если вправо и вниз уже нельзя, значит мы закончили обход текущего контура!\n",
    "        # Только не забываем проверить, что x не равен n*n, а то будет бо-бо.\n",
    "        k += 1 # переходим к следующему контуру\n",
    "        i = j = k # обход следующего контура начнем с координат [k,k]\n",
    "        x = a[k][k-1] # текущее значение равно наибольшему в старом контуре\n",
    "        \n",
    "    x += 1 # Ну, и не забываем прибавлять единичку в конце цикла, какое бы условие ни сработало.\n",
    "    \n",
    "# Выводим на печать\n",
    "for i in a: print(*i)"
   ]
  },
  {
   "cell_type": "code",
   "execution_count": 43,
   "id": "93322752",
   "metadata": {},
   "outputs": [
    {
     "name": "stdout",
     "output_type": "stream",
     "text": [
      "3\n",
      "1 2 3\n",
      "8 9 4\n",
      "7 6 5\n"
     ]
    }
   ],
   "source": [
    "n=int(input())\n",
    "t=[[0]*n for i in range (n)]\n",
    "i,j=0,0\n",
    "for k in range(1, n*n+1):\n",
    "  t[i][j]=k\n",
    "  if k==n*n: break\n",
    "  if i<=j+1 and i+j<n-1: j+=1\n",
    "  elif i<j and i+j>=n-1: i+=1\n",
    "  elif i>=j and i+j>n-1: j-=1\n",
    "  elif i>j+1 and i+j<=n-1: i-=1\n",
    "for i in range(n):\n",
    "  print(*t[i])"
   ]
  },
  {
   "cell_type": "code",
   "execution_count": null,
   "id": "199506e7",
   "metadata": {},
   "outputs": [],
   "source": [
    "# put your python code here\n",
    "n = int(input())\n",
    "a = [[0 for j in range(n)] for i in range(n)]\n",
    "c = 0\n",
    "for itr in range(n // 2): # цикл вывода витков спирали по их количеству (если n - нечетное, то центр спирали заполняется отдельно\n",
    "    i = itr # заполняем верхние части витков, сужая диапазон при следующем витке внутрь спирали\n",
    "    for j in range(itr, n - 1 - itr): \n",
    "        c += 1\n",
    "        a[i][j] = c\n",
    "    j = n - 1 - itr # заполняем правые части витков, сужая диапазон при следующем витке внутрь спирали\n",
    "    for i in range(itr, n - 1 - itr): \n",
    "        c += 1\n",
    "        a[i][j] = c\n",
    "    i = n - 1 - itr # заполняем нижние части витков, сужая диапазон при следующем витке внутрь спирали\n",
    "    for j in range(n - 1 - itr, itr, -1):\n",
    "        c += 1\n",
    "        a[i][j] = c\n",
    "    j = itr\n",
    "    for i in range(n - 1 - itr, itr, -1): # заполняем левые части витков, сужая диапазон при следующем витке внутрь спирали\n",
    "        c += 1\n",
    "        a [i][j] = c\n",
    "if n % 2 == 1: # в случае если n - нечетное заполняем центр\n",
    "    a[n // 2][n // 2] = n * n \n",
    "for i in range(n):\n",
    "    for j in range(n):\n",
    "        print(a[i][j], end = ' ')\n",
    "    print()"
   ]
  }
 ],
 "metadata": {
  "kernelspec": {
   "display_name": "Python 3 (ipykernel)",
   "language": "python",
   "name": "python3"
  },
  "language_info": {
   "codemirror_mode": {
    "name": "ipython",
    "version": 3
   },
   "file_extension": ".py",
   "mimetype": "text/x-python",
   "name": "python",
   "nbconvert_exporter": "python",
   "pygments_lexer": "ipython3",
   "version": "3.10.1"
  }
 },
 "nbformat": 4,
 "nbformat_minor": 5
}
