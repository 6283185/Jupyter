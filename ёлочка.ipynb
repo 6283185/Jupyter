{
 "cells": [
  {
   "cell_type": "code",
   "execution_count": 3,
   "id": "e5664209",
   "metadata": {},
   "outputs": [
    {
     "name": "stdout",
     "output_type": "stream",
     "text": [
      "   *\n",
      "  ***\n",
      " *****\n",
      "*******\n"
     ]
    }
   ],
   "source": [
    "s = '*'\n",
    "p = ' '\n",
    "i = 1\n",
    "while i <= 7:\n",
    "  print(p*((7-i)//2)+s*i)\n",
    "  i += 2"
   ]
  },
  {
   "cell_type": "code",
   "execution_count": 8,
   "id": "d851d905",
   "metadata": {},
   "outputs": [
    {
     "name": "stdout",
     "output_type": "stream",
     "text": [
      "42\n",
      "                     *\n",
      "                    ***\n",
      "                   *****\n",
      "                  *******\n",
      "                 *********\n",
      "                ***********\n",
      "               *************\n",
      "              ***************\n",
      "             *****************\n",
      "            *******************\n",
      "           *********************\n",
      "          ***********************\n",
      "         *************************\n",
      "        ***************************\n",
      "       *****************************\n",
      "      *******************************\n",
      "     *********************************\n",
      "    ***********************************\n",
      "   *************************************\n",
      "  ***************************************\n",
      " *****************************************\n"
     ]
    }
   ],
   "source": [
    "n=int(input())\n",
    "c=1\n",
    "while c<=n:\n",
    "    print (' '*((n-c)//2), '*'*c)\n",
    "    c+=2\n"
   ]
  }
 ],
 "metadata": {
  "kernelspec": {
   "display_name": "Python 3 (ipykernel)",
   "language": "python",
   "name": "python3"
  },
  "language_info": {
   "codemirror_mode": {
    "name": "ipython",
    "version": 3
   },
   "file_extension": ".py",
   "mimetype": "text/x-python",
   "name": "python",
   "nbconvert_exporter": "python",
   "pygments_lexer": "ipython3",
   "version": "3.10.1"
  }
 },
 "nbformat": 4,
 "nbformat_minor": 5
}
