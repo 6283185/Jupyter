{
 "cells": [
  {
   "cell_type": "code",
   "execution_count": 8,
   "id": "9c0941e9",
   "metadata": {},
   "outputs": [
    {
     "name": "stdout",
     "output_type": "stream",
     "text": [
      "3\n",
      "4\n",
      "5\n",
      "6.0\n"
     ]
    }
   ],
   "source": [
    "a = int(input())\n",
    "b = int(input())\n",
    "c = int(input())\n",
    "p = (a + b + c)/2\n",
    "S = (p * (p - a) * (p - b) * (p - c))**0.5\n",
    "print(S)"
   ]
  },
  {
   "cell_type": "code",
   "execution_count": 21,
   "id": "eb261a9c",
   "metadata": {},
   "outputs": [
    {
     "name": "stdout",
     "output_type": "stream",
     "text": [
      "20\n",
      "True\n"
     ]
    }
   ],
   "source": [
    "n = int(input())\n",
    "if (n > -15 and n <= 12) or (n > 14 and n < 17) or (n >= 19):\n",
    "    print(True)\n",
    "else:\n",
    "    print(False)"
   ]
  },
  {
   "cell_type": "code",
   "execution_count": 19,
   "id": "18d87bc4",
   "metadata": {},
   "outputs": [
    {
     "name": "stdout",
     "output_type": "stream",
     "text": [
      "-20\n",
      "True\n"
     ]
    }
   ],
   "source": [
    "n = int(input())\n",
    "if (-15 < n <= 12) or (14 > n < 17) or n >= 19:\n",
    "    print(True)\n",
    "else:\n",
    "    print(False)"
   ]
  },
  {
   "cell_type": "code",
   "execution_count": 33,
   "id": "b0ce05cb",
   "metadata": {},
   "outputs": [
    {
     "name": "stdout",
     "output_type": "stream",
     "text": [
      "7\n",
      "0\n",
      "/\n",
      "Деление на 0!\n"
     ]
    }
   ],
   "source": [
    "a = float(input())\n",
    "b = float(input())\n",
    "c = input()\n",
    "if c == '+':\n",
    "    print(a + b)\n",
    "elif c == '-':\n",
    "    print(a - b)\n",
    "elif c == '/' and b != 0:\n",
    "    print(a / b)\n",
    "elif c == '/' and b == 0:\n",
    "    print('Деление на 0!')    \n",
    "elif c == '*':\n",
    "    print(a * b)\n",
    "elif c == 'mod' and b == 0:\n",
    "    print('Деление на 0!')\n",
    "elif c == 'mod' and b != 0:    \n",
    "    print(a % b)\n",
    "elif c == 'pow'    :\n",
    "    print(a ** b)\n",
    "elif c == 'div' and b != 0:\n",
    "    print(a // b)\n",
    "elif c == 'div' and b == 0:\n",
    "    print('Деление на 0!')"
   ]
  }
 ],
 "metadata": {
  "kernelspec": {
   "display_name": "Python 3 (ipykernel)",
   "language": "python",
   "name": "python3"
  },
  "language_info": {
   "codemirror_mode": {
    "name": "ipython",
    "version": 3
   },
   "file_extension": ".py",
   "mimetype": "text/x-python",
   "name": "python",
   "nbconvert_exporter": "python",
   "pygments_lexer": "ipython3",
   "version": "3.10.1"
  }
 },
 "nbformat": 4,
 "nbformat_minor": 5
}
