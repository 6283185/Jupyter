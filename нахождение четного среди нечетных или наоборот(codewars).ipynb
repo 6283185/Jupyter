{
 "cells": [
  {
   "cell_type": "code",
   "execution_count": 7,
   "id": "25e964c8",
   "metadata": {},
   "outputs": [
    {
     "name": "stdout",
     "output_type": "stream",
     "text": [
      "-7955789\n"
     ]
    }
   ],
   "source": [
    "def find_outlier(integers):\n",
    "    if (integers[0] % 2 == 0 and integers[1] % 2 == 0) or (integers[1] % 2 == 0 and integers[2] % 2 == 0) or (integers[0] % 2 == 0 and integers[2] % 2 == 0):\n",
    "        for i in integers:\n",
    "            if i % 2 != 0:\n",
    "                return i\n",
    "    if (integers[0] % 2 != 0 and integers[1] % 2 != 0) or (integers[1] % 2 != 0 and integers[2] % 2 != 0) (integers[0] % 2 != 0 and integers[2] % 2 != 0):\n",
    "        for x in integers:\n",
    "            if x % 2 == 0:\n",
    "                return x    \n",
    "m = [190242, -7955789, 5135132, -636630, -3194322, -9417732, -8612274, -5860678, -4568352, 6595910, 6569964, 8724544, 1996416, -7345370, -2064728, 1138760, 5596568, 6943474, -4203208, 7663130, 9074516, -1201368, 8409608, 3668658, 5419606, 9978510, 9329000, -2264044, -1513976, -7769584, 2470054, -1440386, -7202422, 8752788, -145728, -8872098, 3460946, 1400618, 5750156, 1843972, -1733216]           \n",
    "print(find_outlier(m))"
   ]
  },
  {
   "cell_type": "code",
   "execution_count": null,
   "id": "30736866",
   "metadata": {},
   "outputs": [],
   "source": [
    "def find_outlier(integers):\n",
    "    listEven = []\n",
    "    listOdd = []\n",
    "    for n in integers:\n",
    "        if n % 2 == 0:\n",
    "            listEven.append(n)\n",
    "        else:\n",
    "            listOdd.append(n)\n",
    "            \n",
    "    if len(listEven) == 1:\n",
    "        return listEven[0]\n",
    "    else:\n",
    "        return listOdd[0]"
   ]
  }
 ],
 "metadata": {
  "kernelspec": {
   "display_name": "Python 3 (ipykernel)",
   "language": "python",
   "name": "python3"
  },
  "language_info": {
   "codemirror_mode": {
    "name": "ipython",
    "version": 3
   },
   "file_extension": ".py",
   "mimetype": "text/x-python",
   "name": "python",
   "nbconvert_exporter": "python",
   "pygments_lexer": "ipython3",
   "version": "3.10.1"
  }
 },
 "nbformat": 4,
 "nbformat_minor": 5
}
