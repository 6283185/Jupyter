{
 "cells": [
  {
   "cell_type": "markdown",
   "id": "dc5f7e39",
   "metadata": {},
   "source": [
    "# f(x) = 0.6x^3+5.5x^2+10x -5\n",
    "\n",
    "+ Определить корни\n",
    "\n",
    "+ Найти интервалы, на которых функция возрастает\n",
    "\n",
    "+ Найти интервалы, на которых функция убывает\n",
    "\n",
    "+ Построить график\n",
    "\n",
    "+ Вычислить вершину\n",
    "\n",
    "+ Определить промежутки, на котором f > 0\n",
    "\n",
    "+ Определить промежутки, на котором f < 0"
   ]
  },
  {
   "cell_type": "code",
   "execution_count": 1,
   "id": "be698697",
   "metadata": {
    "scrolled": true
   },
   "outputs": [
    {
     "name": "stdout",
     "output_type": "stream",
     "text": [
      "739.5000000000005\n"
     ]
    }
   ],
   "source": [
    "a = 0.6\n",
    "b = 5.5\n",
    "c = 10\n",
    "d = -5\n",
    "D = -4*((b**3)*d) + (b**2)*(c**2) - 4*a*(c**3) + 18*a*b*c*d - 27*(a**2)*(d**2)\n",
    "print(D)"
   ]
  },
  {
   "cell_type": "code",
   "execution_count": 7,
   "id": "32e82210",
   "metadata": {
    "scrolled": false
   },
   "outputs": [
    {
     "name": "stdout",
     "output_type": "stream",
     "text": [
      "-6.32174537314726 + 0.e-22*I | -3.25046383307744 - 0.e-22*I | 0.405542539558034 - 0.e-21*I\n"
     ]
    },
    {
     "data": {
      "image/png": "[encoded data removed]",
      "text/plain": [
       "<Figure size 432x288 with 1 Axes>"
      ]
     },
     "metadata": {
      "needs_background": "light"
     },
     "output_type": "display_data"
    },
    {
     "data": {
      "text/plain": [
       "<sympy.plotting.plot.Plot at 0x234f7bece50>"
      ]
     },
     "execution_count": 7,
     "metadata": {},
     "output_type": "execute_result"
    }
   ],
   "source": [
    "from sympy import *\n",
    "from sympy.plotting import plot\n",
    "x = Symbol('x')\n",
    "f = 0.6*x**3 + 5.5*x**2 + 10*x -5\n",
    "x1, x2, x3 = solve(f, x)\n",
    "print(x1,\"|\", x2,\"|\", x3)\n",
    "plot(f)"
   ]
  },
  {
   "cell_type": "code",
   "execution_count": 19,
   "id": "b74a84e8",
   "metadata": {
    "scrolled": true
   },
   "outputs": [
    {
     "name": "stdout",
     "output_type": "stream",
     "text": [
      "Функция положительна на промежутке от -6.32174537314726 + 0.e-22*I до -3.25046383307744 - 0.e-22*I и от 0.405542539558034 - 0.e-21*I до +∞.\n",
      "Функция отрицательна на промежутке от -∞ до -6.32174537314726 + 0.e-22*I и от -3.25046383307744 - 0.e-22*I до 0.405542539558034 - 0.e-21*I.\n"
     ]
    }
   ],
   "source": [
    "print(f'Функция положительна на промежутке от {(x1)} до {(x2)} и от {(x3)} до +∞.')\n",
    "print(f'Функция отрицательна на промежутке от -∞ до {(x1)} и от {(x2)} до {(x3)}.')\n"
   ]
  },
  {
   "cell_type": "code",
   "execution_count": 42,
   "id": "cf43eaa7",
   "metadata": {
    "scrolled": false
   },
   "outputs": [
    {
     "name": "stdout",
     "output_type": "stream",
     "text": [
      "-7.80000000000000\n",
      "7.10542735760100e-15\n"
     ]
    }
   ],
   "source": [
    "from sympy import solveset, symbols, Interval, Min, Max\n",
    "x = symbols('x')\n",
    "\n",
    "lower_bound = -6.33\n",
    "upper_bound = -2\n",
    "f = 0.6*x**3 + 5.5*x**2 + 10*x -5\n",
    "\n",
    "zeros = solveset(f, x, domain=Interval(lower_bound, upper_bound))\n",
    "assert zeros.is_FiniteSet # If there are infinite solutions the next line will hang.\n",
    "res_min = Min(f.subs(x, lower_bound), f.subs(x, upper_bound), *[f.subs(x, i) for i in zeros])\n",
    "res_max = Max(f.subs(x, lower_bound), f.subs(x, upper_bound), *[f.subs(x, i) for i in zeros])\n",
    "print(res_min)\n",
    "print(res_max)\n"
   ]
  }
 ],
 "metadata": {
  "kernelspec": {
   "display_name": "Python 3 (ipykernel)",
   "language": "python",
   "name": "python3"
  },
  "language_info": {
   "codemirror_mode": {
    "name": "ipython",
    "version": 3
   },
   "file_extension": ".py",
   "mimetype": "text/x-python",
   "name": "python",
   "nbconvert_exporter": "python",
   "pygments_lexer": "ipython3",
   "version": "3.10.1"
  }
 },
 "nbformat": 4,
 "nbformat_minor": 5
}
