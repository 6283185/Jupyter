{
 "cells": [
  {
   "cell_type": "code",
   "execution_count": 2,
   "id": "1e1756a8",
   "metadata": {},
   "outputs": [
    {
     "name": "stdout",
     "output_type": "stream",
     "text": [
      "12\n",
      "12\n",
      "4\n",
      "5\n",
      "123\n"
     ]
    }
   ],
   "source": [
    "a = 0\n",
    "while a <= 100:\n",
    "    a = int(input())\n",
    "    if a < 10:\n",
    "        continue\n",
    "    elif a > 100:\n",
    "        break\n",
    "    print(a)\n",
    "\n",
    "    \n",
    "       "
   ]
  }
 ],
 "metadata": {
  "kernelspec": {
   "display_name": "Python 3 (ipykernel)",
   "language": "python",
   "name": "python3"
  },
  "language_info": {
   "codemirror_mode": {
    "name": "ipython",
    "version": 3
   },
   "file_extension": ".py",
   "mimetype": "text/x-python",
   "name": "python",
   "nbconvert_exporter": "python",
   "pygments_lexer": "ipython3",
   "version": "3.10.1"
  }
 },
 "nbformat": 4,
 "nbformat_minor": 5
}
