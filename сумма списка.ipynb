{
 "cells": [
  {
   "cell_type": "code",
   "execution_count": 3,
   "id": "5f5d4b06",
   "metadata": {},
   "outputs": [
    {
     "name": "stdout",
     "output_type": "stream",
     "text": [
      "['Ivan', 'Masha', 'Sasha', 'Olga', 'O', 'l', 'g', 'a']\n"
     ]
    }
   ],
   "source": [
    "students = ['Ivan', 'Masha', 'Sasha']\n",
    "students += ['Olga']\n",
    "students += 'Olga'\n",
    "print(students)"
   ]
  },
  {
   "cell_type": "code",
   "execution_count": 7,
   "id": "d3c99e35",
   "metadata": {},
   "outputs": [
    {
     "name": "stdout",
     "output_type": "stream",
     "text": [
      "4 -1 9 3\n",
      "15\n"
     ]
    }
   ],
   "source": [
    "a = [int(i) for i in input().split()] #подается одна строка с целыми числами. Программа должна вывести сумму этих чисел.\n",
    "b = 0\n",
    "for i in a:\n",
    "    b += i\n",
    "print(b)\n"
   ]
  },
  {
   "cell_type": "code",
   "execution_count": null,
   "id": "661b0655",
   "metadata": {},
   "outputs": [],
   "source": [
    "print(sum(int(i) for i in input().split()))"
   ]
  }
 ],
 "metadata": {
  "kernelspec": {
   "display_name": "Python 3 (ipykernel)",
   "language": "python",
   "name": "python3"
  },
  "language_info": {
   "codemirror_mode": {
    "name": "ipython",
    "version": 3
   },
   "file_extension": ".py",
   "mimetype": "text/x-python",
   "name": "python",
   "nbconvert_exporter": "python",
   "pygments_lexer": "ipython3",
   "version": "3.10.1"
  }
 },
 "nbformat": 4,
 "nbformat_minor": 5
}
