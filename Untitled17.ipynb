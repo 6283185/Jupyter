{
 "cells": [
  {
   "cell_type": "code",
   "execution_count": 3,
   "id": "7c63d603",
   "metadata": {},
   "outputs": [
    {
     "name": "stdout",
     "output_type": "stream",
     "text": [
      "1 2 3\n",
      "end\n",
      "7 8 9 \n"
     ]
    }
   ],
   "source": [
    "mtx = []\n",
    "while True:\n",
    "    a = [i for i in input().split()]\n",
    "    if a == ['end']:\n",
    "        break\n",
    "    mtx.append(a)\n",
    "rows, columns = len(mtx), len(mtx[0])\n",
    "for i in range(rows):\n",
    "    for j in range(columns):\n",
    "        x = int(mtx[i][j - 1]) + int(mtx[i][j + 1 -columns]) + int(mtx[i - 1][j]) + int(mtx[i + 1 - rows][j])\n",
    "        print(x, end =' ')\n",
    "    print()\n",
    "        "
   ]
  },
  {
   "cell_type": "code",
   "execution_count": 2,
   "id": "0f931bb5",
   "metadata": {},
   "outputs": [
    {
     "name": "stdout",
     "output_type": "stream",
     "text": [
      "1 2 3\n",
      "end\n",
      "7 8 9 \n"
     ]
    }
   ],
   "source": [
    "c = []\n",
    "while True:\n",
    "    a = [i for i in input().split()]\n",
    "    if a == ['end']:\n",
    "        break\n",
    "    c.append(a)\n",
    "n, m = len(c), len(c[0])\n",
    "for i in range(n):\n",
    "    for j in range(m):\n",
    "        x = int(c[i][j-1]) + int(c[i][j+1-m]) + int(c[i-1][j]) + int(c[i+1-n][j])\n",
    "        print(x, end=' ')\n",
    "    print()"
   ]
  }
 ],
 "metadata": {
  "kernelspec": {
   "display_name": "Python 3 (ipykernel)",
   "language": "python",
   "name": "python3"
  },
  "language_info": {
   "codemirror_mode": {
    "name": "ipython",
    "version": 3
   },
   "file_extension": ".py",
   "mimetype": "text/x-python",
   "name": "python",
   "nbconvert_exporter": "python",
   "pygments_lexer": "ipython3",
   "version": "3.10.1"
  }
 },
 "nbformat": 4,
 "nbformat_minor": 5
}
