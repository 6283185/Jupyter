{
 "cells": [
  {
   "cell_type": "code",
   "execution_count": null,
   "id": "9b687cbe",
   "metadata": {},
   "outputs": [],
   "source": [
    "a, b = (int(i) for i in input().split())"
   ]
  },
  {
   "cell_type": "code",
   "execution_count": 20,
   "id": "ff816c91",
   "metadata": {},
   "outputs": [
    {
     "name": "stdout",
     "output_type": "stream",
     "text": [
      "-5\n",
      "12\n",
      "4.5\n"
     ]
    }
   ],
   "source": [
    "a = int(input())\n",
    "b = int(input())\n",
    "count = 0\n",
    "s = 0\n",
    "while a % 3 != 0:\n",
    "    a += 1\n",
    "if a % 3 == 0:\n",
    "    for i in range(a, b + 1, 3):\n",
    "        s += i\n",
    "        count += 1\n",
    "print(s / count)"
   ]
  }
 ],
 "metadata": {
  "kernelspec": {
   "display_name": "Python 3 (ipykernel)",
   "language": "python",
   "name": "python3"
  },
  "language_info": {
   "codemirror_mode": {
    "name": "ipython",
    "version": 3
   },
   "file_extension": ".py",
   "mimetype": "text/x-python",
   "name": "python",
   "nbconvert_exporter": "python",
   "pygments_lexer": "ipython3",
   "version": "3.10.1"
  }
 },
 "nbformat": 4,
 "nbformat_minor": 5
}
